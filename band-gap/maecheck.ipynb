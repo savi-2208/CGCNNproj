{
 "cells": [
  {
   "cell_type": "code",
   "execution_count": 2,
   "metadata": {},
   "outputs": [],
   "source": [
    "import csv\n",
    "from sklearn.metrics import mean_absolute_error, mean_squared_error, r2_score\n",
    "\n",
    "# Load the data from the CSV file\n",
    "targeted_values = []\n",
    "predicted_values = []\n",
    "\n",
    "with open('test_results.csv', 'r') as csvfile:\n",
    "    csvreader = csv.reader(csvfile)\n",
    "    for row in csvreader:\n",
    "        if len(row) == 3:\n",
    "            targeted_values.append(float(row[1]))\n",
    "            predicted_values.append(float(row[2]))\n",
    "\n"
   ]
  },
  {
   "cell_type": "code",
   "execution_count": 6,
   "metadata": {},
   "outputs": [
    {
     "name": "stdout",
     "output_type": "stream",
     "text": [
      "Mean Absolute Error: 0.3065912613940542\n",
      "Mean Squared Error: 0.3188932863965282\n",
      "R-squared: 0.8347726760509766\n"
     ]
    }
   ],
   "source": [
    "\n",
    "# Calculate the metrics\n",
    "mae = mean_absolute_error(targeted_values, predicted_values)\n",
    "mse = mean_squared_error(targeted_values, predicted_values)\n",
    "r2 = r2_score(targeted_values, predicted_values)\n",
    "\n",
    "print(\"Mean Absolute Error:\", mae)\n",
    "print(\"Mean Squared Error:\", mse)\n",
    "print(\"R-squared:\", r2)\n"
   ]
  }
 ],
 "metadata": {
  "kernelspec": {
   "display_name": "Python 3",
   "language": "python",
   "name": "python3"
  },
  "language_info": {
   "codemirror_mode": {
    "name": "ipython",
    "version": 3
   },
   "file_extension": ".py",
   "mimetype": "text/x-python",
   "name": "python",
   "nbconvert_exporter": "python",
   "pygments_lexer": "ipython3",
   "version": "3.12.2"
  }
 },
 "nbformat": 4,
 "nbformat_minor": 2
}
